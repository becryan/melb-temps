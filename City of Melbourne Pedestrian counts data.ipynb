{
 "cells": [
  {
   "cell_type": "code",
   "execution_count": 1,
   "metadata": {
    "collapsed": true
   },
   "outputs": [],
   "source": [
    "import pandas as pd\n",
    "### import pandas of course!\n"
   ]
  },
  {
   "cell_type": "code",
   "execution_count": 35,
   "metadata": {
    "collapsed": false
   },
   "outputs": [],
   "source": [
    "## retrieve data from city of melbourne data portal - filter to 2020\n",
    "## https://data.melbourne.vic.gov.au/resource/b2ak-trbp.csv?$where=year=2020&$limit=999999999999999 \n",
    "## save and name this file where you will be working on it in this notebook\n",
    "df=pd.read_csv('pedestrian_data_sept2020.csv')\n"
   ]
  },
  {
   "cell_type": "code",
   "execution_count": 37,
   "metadata": {
    "collapsed": false
   },
   "outputs": [],
   "source": [
    "df.describe()\n",
    "df.date_time=pd.to_datetime(df.date_time)  # enforce date_time parsing\n"
   ]
  },
  {
   "cell_type": "code",
   "execution_count": 13,
   "metadata": {
    "collapsed": false
   },
   "outputs": [
    {
     "data": {
      "text/html": [
       "<div>\n",
       "<table border=\"1\" class=\"dataframe\">\n",
       "  <thead>\n",
       "    <tr style=\"text-align: right;\">\n",
       "      <th></th>\n",
       "      <th>id</th>\n",
       "      <th>date_time</th>\n",
       "      <th>year</th>\n",
       "      <th>month</th>\n",
       "      <th>mdate</th>\n",
       "      <th>day</th>\n",
       "      <th>time</th>\n",
       "      <th>sensor_id</th>\n",
       "      <th>sensor_name</th>\n",
       "      <th>hourly_counts</th>\n",
       "    </tr>\n",
       "  </thead>\n",
       "  <tbody>\n",
       "    <tr>\n",
       "      <th>0</th>\n",
       "      <td>3302900</td>\n",
       "      <td>2020-08-31T22:00:00.000</td>\n",
       "      <td>2020</td>\n",
       "      <td>August</td>\n",
       "      <td>31</td>\n",
       "      <td>Monday</td>\n",
       "      <td>22</td>\n",
       "      <td>62</td>\n",
       "      <td>La Trobe St (North)</td>\n",
       "      <td>3</td>\n",
       "    </tr>\n",
       "    <tr>\n",
       "      <th>1</th>\n",
       "      <td>3302899</td>\n",
       "      <td>2020-08-31T22:00:00.000</td>\n",
       "      <td>2020</td>\n",
       "      <td>August</td>\n",
       "      <td>31</td>\n",
       "      <td>Monday</td>\n",
       "      <td>22</td>\n",
       "      <td>61</td>\n",
       "      <td>Swanston St - RMIT Building 14</td>\n",
       "      <td>8</td>\n",
       "    </tr>\n",
       "    <tr>\n",
       "      <th>2</th>\n",
       "      <td>3302898</td>\n",
       "      <td>2020-08-31T22:00:00.000</td>\n",
       "      <td>2020</td>\n",
       "      <td>August</td>\n",
       "      <td>31</td>\n",
       "      <td>Monday</td>\n",
       "      <td>22</td>\n",
       "      <td>59</td>\n",
       "      <td>Swanston St - RMIT Building 80</td>\n",
       "      <td>0</td>\n",
       "    </tr>\n",
       "    <tr>\n",
       "      <th>3</th>\n",
       "      <td>3302897</td>\n",
       "      <td>2020-08-31T22:00:00.000</td>\n",
       "      <td>2020</td>\n",
       "      <td>August</td>\n",
       "      <td>31</td>\n",
       "      <td>Monday</td>\n",
       "      <td>22</td>\n",
       "      <td>58</td>\n",
       "      <td>Bourke St - Spencer St (North)</td>\n",
       "      <td>31</td>\n",
       "    </tr>\n",
       "    <tr>\n",
       "      <th>4</th>\n",
       "      <td>3302896</td>\n",
       "      <td>2020-08-31T22:00:00.000</td>\n",
       "      <td>2020</td>\n",
       "      <td>August</td>\n",
       "      <td>31</td>\n",
       "      <td>Monday</td>\n",
       "      <td>22</td>\n",
       "      <td>57</td>\n",
       "      <td>Bourke St Bridge</td>\n",
       "      <td>1</td>\n",
       "    </tr>\n",
       "  </tbody>\n",
       "</table>\n",
       "</div>"
      ],
      "text/plain": [
       "        id                date_time  year   month  mdate     day  time  \\\n",
       "0  3302900  2020-08-31T22:00:00.000  2020  August     31  Monday    22   \n",
       "1  3302899  2020-08-31T22:00:00.000  2020  August     31  Monday    22   \n",
       "2  3302898  2020-08-31T22:00:00.000  2020  August     31  Monday    22   \n",
       "3  3302897  2020-08-31T22:00:00.000  2020  August     31  Monday    22   \n",
       "4  3302896  2020-08-31T22:00:00.000  2020  August     31  Monday    22   \n",
       "\n",
       "   sensor_id                     sensor_name  hourly_counts  \n",
       "0         62             La Trobe St (North)              3  \n",
       "1         61  Swanston St - RMIT Building 14              8  \n",
       "2         59  Swanston St - RMIT Building 80              0  \n",
       "3         58  Bourke St - Spencer St (North)             31  \n",
       "4         57                Bourke St Bridge              1  "
      ]
     },
     "execution_count": 13,
     "metadata": {},
     "output_type": "execute_result"
    }
   ],
   "source": [
    "df.head()\n"
   ]
  },
  {
   "cell_type": "code",
   "execution_count": 38,
   "metadata": {
    "collapsed": false
   },
   "outputs": [],
   "source": [
    "type(df.date_time)\n",
    "df.set_index(['date_time'])\n",
    "# reduce to 2020 values, if not already done so -- the above download command filters the api on 2020 data.\n",
    "df=df[df.year.eq(2020)]"
   ]
  },
  {
   "cell_type": "code",
   "execution_count": 39,
   "metadata": {
    "collapsed": false
   },
   "outputs": [
    {
     "data": {
      "text/plain": [
       "array([62, 61, 59, 58, 57, 56, 55, 52, 51, 50, 49, 48, 47, 46, 41, 45, 35,\n",
       "       44, 43, 42, 29, 36, 40, 37, 39, 34, 30, 31, 28, 27, 22, 19, 20, 21,\n",
       "       25, 23, 24, 26, 14,  6,  5,  7,  8, 11, 12, 10,  9,  3,  1,  2, 53,\n",
       "       18, 17,  4, 66, 65, 64, 63, 54, 15], dtype=int64)"
      ]
     },
     "execution_count": 39,
     "metadata": {},
     "output_type": "execute_result"
    }
   ],
   "source": [
    "df.sensor_id.unique()"
   ]
  },
  {
   "cell_type": "code",
   "execution_count": 40,
   "metadata": {
    "collapsed": false
   },
   "outputs": [
    {
     "name": "stdout",
     "output_type": "stream",
     "text": [
      "Columns: Index(['id', 'date_time', 'year', 'month', 'mdate', 'day', 'time', 'sensor_id',\n",
      "       'sensor_name', 'hourly_counts'],\n",
      "      dtype='object')\n"
     ]
    }
   ],
   "source": [
    "print('Columns: %s' % df.columns)"
   ]
  },
  {
   "cell_type": "raw",
   "metadata": {},
   "source": [
    "print(df)"
   ]
  },
  {
   "cell_type": "code",
   "execution_count": 41,
   "metadata": {
    "collapsed": false
   },
   "outputs": [
    {
     "name": "stdout",
     "output_type": "stream",
     "text": [
      "sensor_id  date_time \n",
      "2          2020-01-05    106173\n",
      "           2020-01-12    151345\n",
      "           2020-01-19    147713\n",
      "           2020-01-26    164188\n",
      "           2020-02-02    131924\n",
      "           2020-02-09    136308\n",
      "           2020-02-16    135822\n",
      "           2020-02-23    144951\n",
      "           2020-03-01    142899\n",
      "           2020-03-08    144680\n",
      "           2020-03-15    128639\n",
      "           2020-03-22     82800\n",
      "           2020-03-29     35179\n",
      "           2020-04-05     20395\n",
      "           2020-04-12     18297\n",
      "           2020-04-19     21511\n",
      "           2020-04-26     22558\n",
      "           2020-05-03     25686\n",
      "           2020-05-10     30418\n",
      "           2020-05-17     36292\n",
      "           2020-05-24     42063\n",
      "           2020-05-31     46361\n",
      "           2020-06-07     52106\n",
      "           2020-06-14     55014\n",
      "           2020-06-21     58840\n",
      "           2020-06-28     54736\n",
      "           2020-07-05     50022\n",
      "           2020-07-12     33412\n",
      "           2020-07-19     26205\n",
      "           2020-07-26     23866\n",
      "           2020-08-02     23023\n",
      "           2020-08-09     13616\n",
      "           2020-08-16     10958\n",
      "           2020-08-23     10209\n",
      "           2020-08-30     12102\n",
      "           2020-09-06      1619\n",
      "Name: hourly_counts, dtype: int64\n",
      "0         False\n",
      "1         False\n",
      "2         False\n",
      "3         False\n",
      "4         False\n",
      "5         False\n",
      "6         False\n",
      "7         False\n",
      "8         False\n",
      "9         False\n",
      "10        False\n",
      "11        False\n",
      "12        False\n",
      "13        False\n",
      "14        False\n",
      "15        False\n",
      "16        False\n",
      "17        False\n",
      "18        False\n",
      "19        False\n",
      "20        False\n",
      "21        False\n",
      "22        False\n",
      "23        False\n",
      "24        False\n",
      "25        False\n",
      "26        False\n",
      "27        False\n",
      "28        False\n",
      "29        False\n",
      "          ...  \n",
      "336094    False\n",
      "336095    False\n",
      "336096    False\n",
      "336097    False\n",
      "336098    False\n",
      "336099    False\n",
      "336100    False\n",
      "336101    False\n",
      "336102    False\n",
      "336103    False\n",
      "336104    False\n",
      "336105    False\n",
      "336106    False\n",
      "336107    False\n",
      "336108    False\n",
      "336109    False\n",
      "336110    False\n",
      "336111    False\n",
      "336112    False\n",
      "336113    False\n",
      "336114    False\n",
      "336115    False\n",
      "336116    False\n",
      "336117    False\n",
      "336118     True\n",
      "336119    False\n",
      "336120    False\n",
      "336121    False\n",
      "336122    False\n",
      "336123    False\n",
      "Name: sensor_id, dtype: bool\n"
     ]
    }
   ],
   "source": [
    "# try one sensor\n",
    "df1=df[df.sensor_id.eq(2)]\n",
    "df1.index=df1.date_time\n",
    "df3=df1.groupby('sensor_id').resample('W')['hourly_counts'].sum()\n",
    "print(df3)\n",
    "#df3.to_csv('df3.csv')\n",
    "\n",
    "#df.groupby('Sensor_ID').resample('W-Mon',how='Date_Time').sum().reset_index().sort_values(by='Date_Time')\n",
    "print(df.sensor_id.eq(1))\n",
    "\n"
   ]
  },
  {
   "cell_type": "code",
   "execution_count": 51,
   "metadata": {
    "collapsed": false
   },
   "outputs": [],
   "source": [
    "## dont need to repeat this step\n",
    "big_df=[]\n",
    "sensor_ids=df.sensor_id.unique()           \n",
    "for i in sensor_ids:\n",
    "    dfi=df[df.sensor_id.eq(i)]\n",
    "    dfi.index=dfi.date_time\n",
    "    df3=dfi.groupby('sensor_id').resample('W')['hourly_counts'].sum()\n",
    "    #big_df.append(df3,ignore_index=True   ## not using this because frames are pasted side by side. use bash instead..\n",
    "    fname='df%s.csv' % i\n",
    "    df3.to_csv(fname)\n",
    "    \n",
    "\n"
   ]
  },
  {
   "cell_type": "code",
   "execution_count": null,
   "metadata": {
    "collapsed": false
   },
   "outputs": [],
   "source": []
  },
  {
   "cell_type": "code",
   "execution_count": 59,
   "metadata": {
    "collapsed": false
   },
   "outputs": [],
   "source": [
    "# use bash to combine dataframes into one: for i in df*.csv;do cat ${i};done > output.csv\n",
    "# echo \"sensor_id,week,counts\" > sensors_header.csv\n",
    "# paste -d \"\\n\" sensor_header.csv output.csv > combined.csv\n",
    "# sed -i '/^$/d' combined.csv\n",
    "new_df=pd.read_csv('combined.csv')"
   ]
  },
  {
   "cell_type": "code",
   "execution_count": 47,
   "metadata": {
    "collapsed": false
   },
   "outputs": [
    {
     "data": {
      "text/html": [
       "<div>\n",
       "<table border=\"1\" class=\"dataframe\">\n",
       "  <thead>\n",
       "    <tr style=\"text-align: right;\">\n",
       "      <th></th>\n",
       "    </tr>\n",
       "  </thead>\n",
       "  <tbody>\n",
       "  </tbody>\n",
       "</table>\n",
       "</div>"
      ],
      "text/plain": [
       "Empty DataFrame\n",
       "Columns: []\n",
       "Index: []"
      ]
     },
     "execution_count": 47,
     "metadata": {},
     "output_type": "execute_result"
    }
   ],
   "source": []
  },
  {
   "cell_type": "code",
   "execution_count": 60,
   "metadata": {
    "collapsed": false
   },
   "outputs": [
    {
     "data": {
      "text/html": [
       "<div>\n",
       "<table border=\"1\" class=\"dataframe\">\n",
       "  <thead>\n",
       "    <tr style=\"text-align: right;\">\n",
       "      <th></th>\n",
       "      <th>sensor_id</th>\n",
       "      <th>week</th>\n",
       "      <th>counts</th>\n",
       "    </tr>\n",
       "  </thead>\n",
       "  <tbody>\n",
       "    <tr>\n",
       "      <th>2119</th>\n",
       "      <td>9</td>\n",
       "      <td>2020-08-09</td>\n",
       "      <td>7096.0</td>\n",
       "    </tr>\n",
       "    <tr>\n",
       "      <th>2120</th>\n",
       "      <td>9</td>\n",
       "      <td>2020-08-16</td>\n",
       "      <td>5628.0</td>\n",
       "    </tr>\n",
       "    <tr>\n",
       "      <th>2121</th>\n",
       "      <td>9</td>\n",
       "      <td>2020-08-23</td>\n",
       "      <td>4912.0</td>\n",
       "    </tr>\n",
       "    <tr>\n",
       "      <th>2122</th>\n",
       "      <td>9</td>\n",
       "      <td>2020-08-30</td>\n",
       "      <td>5578.0</td>\n",
       "    </tr>\n",
       "    <tr>\n",
       "      <th>2123</th>\n",
       "      <td>9</td>\n",
       "      <td>2020-09-06</td>\n",
       "      <td>831.0</td>\n",
       "    </tr>\n",
       "  </tbody>\n",
       "</table>\n",
       "</div>"
      ],
      "text/plain": [
       "      sensor_id        week  counts\n",
       "2119          9  2020-08-09  7096.0\n",
       "2120          9  2020-08-16  5628.0\n",
       "2121          9  2020-08-23  4912.0\n",
       "2122          9  2020-08-30  5578.0\n",
       "2123          9  2020-09-06   831.0"
      ]
     },
     "execution_count": 60,
     "metadata": {},
     "output_type": "execute_result"
    }
   ],
   "source": [
    "new_df.tail()"
   ]
  },
  {
   "cell_type": "code",
   "execution_count": null,
   "metadata": {
    "collapsed": false
   },
   "outputs": [],
   "source": [
    "### we now have a dataframe listing sensors and their counts reduced to 1 week time frames from beginning of 2020.\n",
    "\n"
   ]
  },
  {
   "cell_type": "code",
   "execution_count": 63,
   "metadata": {
    "collapsed": false
   },
   "outputs": [
    {
     "data": {
      "text/plain": [
       "36"
      ]
     },
     "execution_count": 63,
     "metadata": {},
     "output_type": "execute_result"
    }
   ],
   "source": [
    "len(new_df['week'].unique())  ## how many weeks were recorded?"
   ]
  },
  {
   "cell_type": "code",
   "execution_count": 73,
   "metadata": {
    "collapsed": false
   },
   "outputs": [
    {
     "data": {
      "text/plain": [
       "week\n",
       "2020-01-05    3326606.0\n",
       "2020-01-12    5114614.0\n",
       "2020-01-19    5328461.0\n",
       "2020-01-26    5904365.0\n",
       "2020-02-02    4571176.0\n",
       "Name: counts, dtype: float64"
      ]
     },
     "execution_count": 73,
     "metadata": {},
     "output_type": "execute_result"
    }
   ],
   "source": [
    "new_df.groupby('week')['counts'].sum().head()  # look at total counts of all sensors per week."
   ]
  },
  {
   "cell_type": "code",
   "execution_count": 87,
   "metadata": {
    "collapsed": false
   },
   "outputs": [
    {
     "data": {
      "image/png": "[encoded data removed]",
      "text/plain": [
       "<matplotlib.figure.Figure at 0xda8a390>"
      ]
     },
     "metadata": {},
     "output_type": "display_data"
    }
   ],
   "source": [
    "%matplotlib inline\n",
    "\n",
    "import matplotlib\n",
    "import numpy as np\n",
    "import matplotlib.pyplot as plt\n",
    "\n",
    "p=pd.DataFrame(new_df.groupby('week')['counts'].sum())\n",
    "plot_df=pd.DataFrame(new_df)\n",
    "plot_df.date_time=pd.to_datetime(plot_df.week)\n",
    "\n",
    "lines = p.plot.line()\n"
   ]
  },
  {
   "cell_type": "code",
   "execution_count": 89,
   "metadata": {
    "collapsed": false
   },
   "outputs": [],
   "source": [
    "#new_df.to_json(orient=\"records\")  # for reading into d3 code\n",
    "# dont show.."
   ]
  },
  {
   "cell_type": "code",
   "execution_count": 95,
   "metadata": {
    "collapsed": false
   },
   "outputs": [
    {
     "data": {
      "text/plain": [
       "<matplotlib.axes._subplots.AxesSubplot at 0xda8af90>"
      ]
     },
     "execution_count": 95,
     "metadata": {},
     "output_type": "execute_result"
    },
    {
     "data": {
      "image/png": "[encoded data removed]",
      "text/plain": [
       "<matplotlib.figure.Figure at 0xdabb7d0>"
      ]
     },
     "metadata": {},
     "output_type": "display_data"
    }
   ],
   "source": [
    "df5=new_df\n",
    "df5=df5[df5.sensor_id > 55]\n",
    "df5 = df5.pivot(index='week', columns='sensor_id', values='counts')   # look at individual sensors..but only a few (ids> 55)\n",
    "\n",
    "df5.plot()"
   ]
  },
  {
   "cell_type": "code",
   "execution_count": 71,
   "metadata": {
    "collapsed": true
   },
   "outputs": [],
   "source": [
    "new_df.to_json('combined.json',orient='records')  # write file to json for d3 viz"
   ]
  },
  {
   "cell_type": "code",
   "execution_count": null,
   "metadata": {
    "collapsed": true
   },
   "outputs": [],
   "source": []
  }
 ],
 "metadata": {
  "anaconda-cloud": {},
  "kernelspec": {
   "display_name": "Python 3",
   "language": "python",
   "name": "python3"
  },
  "language_info": {
   "codemirror_mode": {
    "name": "ipython",
    "version": 3
   },
   "file_extension": ".py",
   "mimetype": "text/x-python",
   "name": "python",
   "nbconvert_exporter": "python",
   "pygments_lexer": "ipython3",
   "version": "3.5.2"
  }
 },
 "nbformat": 4,
 "nbformat_minor": 1
}
