{
 "cells": [
  {
   "cell_type": "markdown",
   "metadata": {},
   "source": [
    "# Interpolate weather data from the BOM (Bureau of Meteorology) via requests to the v1 Weather API"
   ]
  },
  {
   "cell_type": "markdown",
   "metadata": {},
   "source": [
    "#### 1) Import modules required"
   ]
  },
  {
   "cell_type": "code",
   "execution_count": 91,
   "metadata": {
    "collapsed": false,
    "jupyter": {
     "outputs_hidden": false
    }
   },
   "outputs": [],
   "source": [
    "import json\n",
    "import urllib \n",
    "import json\n",
    "import datetime\n",
    "import numpy as np\n",
    "from scipy.interpolate import Rbf, griddata, interp2d, NearestNDInterpolator, LinearNDInterpolator\n",
    "import matplotlib\n",
    "matplotlib.use('Agg')\n",
    "import matplotlib.pyplot as plt\n",
    "from matplotlib import cm\n",
    "from scipy import interpolate\n",
    "%matplotlib inline  \n",
    "\n",
    "import sys\n",
    "import requests\n"
   ]
  },
  {
   "cell_type": "markdown",
   "metadata": {},
   "source": [
    "#### 2) Set Global variables (api_url, places), getJson requests function"
   ]
  },
  {
   "cell_type": "code",
   "execution_count": 66,
   "metadata": {},
   "outputs": [],
   "source": [
    "### Global Vars:\n",
    "api_url=\"https://api.weather.bom.gov.au/v1/locations\"\n",
    "\n",
    "## commonly used functions\n",
    "def getJson(url):\n",
    "\n",
    "    try:  \n",
    "        req=requests.get(url)        \n",
    "        if req.status_code == 200:\n",
    "            json=req.json()\n",
    "            return json\n",
    "        else:\n",
    "            print('Could not fetch request, status code was {0}'.format(req.status_code))\n",
    "            return None\n",
    "    except:\n",
    "        print('Coult not fetch a request')\n",
    "\n",
    "\n",
    "    \n",
    "\n",
    "places=[\"Melbourne(OlympicPark)\",\"MelbourneAirport\",\"AvalonAirport\", \"Cerberus\",\n",
    "        \"Coldstream\", \"EssendonAirport\", \"FawknerBeacon\",\"FernyCreek\",\"Frankston\",\n",
    "        \"GeelongRacecourse\",\"Laverton\",\"Moorabbin Airport\",\"Rhyll\",\"Scoresby\",\"Sheoaks\",\n",
    "        \"SouthChannelIsland\",\"StKildaHarbour\",\"Viewbank\"]\n"
   ]
  },
  {
   "cell_type": "markdown",
   "metadata": {},
   "source": [
    "#### 3) Functions for getting location data from string text place names, and querying observation values"
   ]
  },
  {
   "cell_type": "code",
   "execution_count": 245,
   "metadata": {
    "collapsed": false,
    "jupyter": {
     "outputs_hidden": false
    }
   },
   "outputs": [
    {
     "name": "stdout",
     "output_type": "stream",
     "text": [
      "r1r1m9t\n",
      "13.6\n"
     ]
    }
   ],
   "source": [
    "def get_geohash(location):\n",
    "#\n",
    "#   Get the 'geohash' from the bom api.\n",
    "#   geohash for a location is needed to query more location information (e.g. lat/lon) and observations\n",
    "#   \n",
    "#   Usage:\n",
    "#   geohash=get_geohash(location) \n",
    "\n",
    "#   Inputs:\n",
    "#   location - string text of a placename, this is fixed to search place names in Victoria, Australia\n",
    "#   \n",
    "    url=\"{0}/?search={1}&VIC\".format(api_url,location)\n",
    "    jsonData=getJson(url)\n",
    "   # there may be more than one data item returned but we are just going to grab the first if exists:\n",
    "    geohash=jsonData['data'][0]['geohash']\n",
    "\n",
    "    return geohash\n",
    "\n",
    "\n",
    "def get_latlong(geohash): \n",
    "#\n",
    "#   Get the latitude/longitude  from the bom api for a geohash matched place name\n",
    "#   Geohash for a location is needed to query more location information (e.g. lat/lon) and observations\n",
    "#   \n",
    "#   Usage:\n",
    "#   geohash=get_geohash(location) \n",
    "\n",
    "#   Inputs:\n",
    "#   location - string text of a placename, this is fixed to search place names in Victoria, Australia\n",
    "#       \n",
    "    url=\"{0}/{1}\".format(api_url,geohash[0:6])\n",
    "    jsonData=getJson(url)\n",
    "\n",
    "    lat = jsonData['data']['latitude']\n",
    "    lon = jsonData['data']['longitude']\n",
    "\n",
    "    return lat,lon   \n",
    "\n",
    "\n",
    "def get_observation(geohash,observable):  \n",
    "#\n",
    "#   Get the observed metric (e.g. temp, apparent_temp, rainfall) from the bom api.\n",
    "   \n",
    "#   Usage:\n",
    "#   observation=get_observations(geohash,observable) \n",
    "\n",
    "#    Inputs:\n",
    "#   geohash  - is the retrieved geohash identifier for a location\n",
    "#   observable - is the measured weather variable - string - options include:\n",
    "#    'temp','temp_feels_like','rain_since_9am','humidity'\n",
    "#\n",
    "    url=\"{0}/{1}/observations\".format(api_url,geohash[0:6])\n",
    "\n",
    "    jsonData=getJson(url)\n",
    "    obs = jsonData['data'][observable]\n",
    "\n",
    "    return obs\n",
    "\n",
    "# Test The above functions\n",
    "    \n",
    "geohash = get_geohash('Viewbank')\n",
    "temp=get_observations(geohash,'temp')\n",
    "\n",
    "print(geohash)\n",
    "print(temp)"
   ]
  },
  {
   "cell_type": "markdown",
   "metadata": {},
   "source": [
    "#### Interpolation Functions"
   ]
  },
  {
   "cell_type": "code",
   "execution_count": 289,
   "metadata": {},
   "outputs": [],
   "source": [
    "def distance_matrix(x0, y0, x1, y1):\n",
    "    obs = np.vstack((x0, y0)).T\n",
    "    interp = np.vstack((x1, y1)).T\n",
    "    # Make a distance matrix between pairwise observations\n",
    "    # Note: from <http://stackoverflow.com/questions/1871536>\n",
    "    # (Yay for ufuncs!)\n",
    "    d0 = np.subtract.outer(obs[:,0], interp[:,0])\n",
    "    d1 = np.subtract.outer(obs[:,1], interp[:,1])\n",
    "\n",
    "    return np.hypot(d0, d1)\n",
    "\n",
    "def simple_idw(x, y, z, xi, yi):\n",
    "    # this comes from stack exchange - \n",
    "    # https://stackoverflow.com/questions/3104781/inverse-distance-weighted-idw-interpolation-with-python\n",
    "    dist = distance_matrix(x,y, xi,yi)\n",
    "    # In IDW, weights are 1 / distance\n",
    "    weights = 1.0 / dist\n",
    "\n",
    "    # Make weights sum to one\n",
    "    weights /= weights.sum(axis=0)\n",
    "\n",
    "    # Multiply the weights for each interpolated point by all observed Z-values\n",
    "    zi = np.dot(weights.T, z)\n",
    "    return zi\n",
    "\n",
    "def get_meshgrid(x,y,z,gridsize,interp_type):\n",
    "#   Calculate interpolated grid of values for input x,y points and z observations\n",
    "#   \n",
    "#    Inputs:\n",
    "#    x: x value of location\n",
    "#    y: y value of location\n",
    "#    z: observed values at the x,y pairs\n",
    "#    gridsize: integer for number linearly spaced points in new x,y grid\n",
    "#    interp_type: see class reference from scipy https://docs.scipy.org/doc/scipy/tutorial/interpolate.html\n",
    "#    Current implemented options are :\n",
    "#               '   rbf' (radial basis function),\n",
    "#                  'linearND' (LinearND Interpolator),\n",
    "#                  'nearest' (Nearest ND Interpolator)\n",
    "    LONG_LIMITS=[float(min(y)), float(max(y))]\n",
    "    LAT_LIMITS=[float(min(x)),float(max(x))]\n",
    "\n",
    "    XI, YI = np.meshgrid(\n",
    "        np.linspace(LAT_LIMITS[0], LAT_LIMITS[1], gridsize),\n",
    "        np.linspace(LONG_LIMITS[0], LONG_LIMITS[1], gridsize)\n",
    "        )\n",
    "    if interp_type == 'rbf':\n",
    "        interp_values = Rbf(x, y, z, method='cubic')\n",
    "        ZI = interp_values(XI, YI)\n",
    "    elif interp_type == 'linearND':\n",
    "        interp_values = LinearNDInterpolator(list(zip(x, y)), z)\n",
    "        ZI = interp_values(XI, YI)\n",
    "    elif interp_type == 'nearest':\n",
    "        interp_values = NearestNDInterpolator(list(zip(x,y)),z)\n",
    "        ZI = interp_values(XI,YI)\n",
    "       \n",
    "    return (XI, YI, ZI) \n"
   ]
  },
  {
   "cell_type": "markdown",
   "metadata": {},
   "source": [
    "#### 4) Populate lists of locations and temperatures "
   ]
  },
  {
   "cell_type": "code",
   "execution_count": 290,
   "metadata": {
    "collapsed": false,
    "jupyter": {
     "outputs_hidden": false
    }
   },
   "outputs": [
    {
     "name": "stdout",
     "output_type": "stream",
     "text": [
      "[11.7, 12.9, 14.8, 12.4, 17.7, 13.8, 14.7]\n",
      "[[-38.75701904296875, 143.6737060546875], [-37.74078369140625, 145.0909423828125], [-36.73004150390625, 146.9586181640625], [-37.69683837890625, 147.7386474609375], [-31.63238525390625, 152.7264404296875], [-37.81219482421875, 144.9700927734375], [-38.15826416015625, 144.3658447265625]]\n"
     ]
    }
   ],
   "source": [
    "temps=[]\n",
    "latlongs=[]\n",
    "x=[]\n",
    "y=[]\n",
    "\n",
    "for place in places:\n",
    "    geohash=get_geohash(place)\n",
    "    geohashes.append(geohash)\n",
    "\n",
    "geohashset = list(set(geohashes))\n",
    "\n",
    "\n",
    "## Skipping fetching locations for now - have a bunch of geohashes for quicktest\n",
    "#geohashes = ['r1r1m9t', 'r1nwvj5', 'r1r0fup', 'r6ks539', 'r1n5t2b', 'r3319cv', 'r32x01v'];\n",
    "\n",
    "for geohash in geohashset:\n",
    "    #1geohash=get_geohash(place)\n",
    "    lat,lon=get_latlong(geohash)\n",
    "    latlongs.append([lat,lon])\n",
    "    x.append(lat)\n",
    "    y.append(lon)\n",
    "    obs=get_observations(geohash,'temp')\n",
    "    \n",
    "    temps.append(obs)\n",
    "\n",
    "print(temps)\n",
    "print(latlongs)  "
   ]
  },
  {
   "cell_type": "markdown",
   "metadata": {},
   "source": [
    "### In case any observed values are null, do this:"
   ]
  },
  {
   "cell_type": "code",
   "execution_count": 219,
   "metadata": {},
   "outputs": [
    {
     "name": "stdout",
     "output_type": "stream",
     "text": [
      "11.9\n",
      "[11.7, 10.2, 10.1, 9.7, 16.9, 11.6, 13.1]\n"
     ]
    }
   ],
   "source": [
    "## If one of the fetched temperatures is None/Null replace with the average\n",
    "ave=sum(temps)/len(temps)\n",
    "print(ave)\n",
    "t=[ave if v == None else v for v in temps] # now replace the Nones with the average value\n",
    "\n",
    "print(t)\n",
    "# looking at solution here --https://stackoverflow.com/questions/37662180/interpolate-missing-values-2d-python?noredirect=1&lq=1"
   ]
  },
  {
   "cell_type": "code",
   "execution_count": 291,
   "metadata": {},
   "outputs": [
    {
     "name": "stdout",
     "output_type": "stream",
     "text": [
      "[-38.75701904296875, -37.74078369140625, -36.73004150390625, -37.69683837890625, -31.63238525390625, -37.81219482421875, -38.15826416015625]\n",
      "[143.6737060546875, 145.0909423828125, 146.9586181640625, 147.7386474609375, 152.7264404296875, 144.9700927734375, 144.3658447265625]\n"
     ]
    }
   ],
   "source": [
    "#### Print out the grid values\n",
    "print(x)\n",
    "print(y)"
   ]
  },
  {
   "cell_type": "markdown",
   "metadata": {},
   "source": [
    "#### 5) Calculated interpolated values on grid"
   ]
  },
  {
   "cell_type": "code",
   "execution_count": 292,
   "metadata": {
    "collapsed": false,
    "jupyter": {
     "outputs_hidden": false
    }
   },
   "outputs": [
    {
     "name": "stderr",
     "output_type": "stream",
     "text": [
      "/tmp/ipykernel_107/1517195224.py:17: RuntimeWarning: divide by zero encountered in divide\n",
      "  weights = 1.0 / dist\n",
      "/tmp/ipykernel_107/1517195224.py:20: RuntimeWarning: invalid value encountered in divide\n",
      "  weights /= weights.sum(axis=0)\n"
     ]
    }
   ],
   "source": [
    "# 'interp_type' options\n",
    "#               '   rbf' (radial basis function),\n",
    "#                  'linearND' (LinearND Interpolator),\n",
    "#                  'nearest' (Nearest ND Interpolator)\n",
    "(XI,YI,ZI)=get_meshgrid(x,y,temps,20,'linearND')\n",
    "(XI,YI,Z2) =get_meshgrid(x,y,temps,20,'nearest')\n",
    "(XI, YI,Z3) = get_meshgrid(x,y,temps,20,'rbf')\n",
    "\n",
    "# CALC IDW TOO\n",
    "xi, yi = XI.flatten(), YI.flatten()\n",
    "Z4 = simple_idw(x,y,temps,xi,yi)\n",
    "Z4 = Z4.reshape(20, 20)\n",
    "\n",
    "\n",
    "\n"
   ]
  },
  {
   "cell_type": "markdown",
   "metadata": {},
   "source": [
    "#### 6) Plot the different interpolations of the temperature values"
   ]
  },
  {
   "cell_type": "code",
   "execution_count": 287,
   "metadata": {
    "collapsed": false,
    "jupyter": {
     "outputs_hidden": false
    }
   },
   "outputs": [
    {
     "data": {
      "image/png": "[encoded data removed]",
      "text/plain": [
       "<Figure size 640x480 with 7 Axes>"
      ]
     },
     "metadata": {},
     "output_type": "display_data"
    }
   ],
   "source": [
    "fig, axes = plt.subplots(nrows=2, ncols=2)\n",
    "\n",
    "\n",
    "plt.subplot(2, 2, 1)\n",
    "plt.title('Linear ND')\n",
    "plt.pcolormesh(XI,YI,ZI,cmap='jet')\n",
    "\n",
    "\n",
    "plt.subplot(2, 2, 2)\n",
    "plt.title('Nearest ND')\n",
    "plt.colorbar()\n",
    "plt.pcolormesh(XI, YI, Z2,cmap='jet')\n",
    "\n",
    "plt.subplot(2, 2, 3)\n",
    "plt.title('RBF')\n",
    "plt.pcolormesh(XI, YI, Z3,cmap='jet')\n",
    "plt.colorbar()\n",
    "\n",
    "plt.subplot(2, 2, 4)\n",
    "plt.title('IDW')\n",
    "\n",
    "plt.pcolormesh(XI, YI,Z4,cmap='jet')\n",
    "plt.colorbar()\n",
    "\n",
    "plt.show()\n",
    "\n",
    "#plt.scatter(x,y,100,temps,cmap='jet')\n",
    "\n",
    "#plt.axis(\"equal\")\n",
    "#$plot_title='{0} Interpolation '.format(interp_type)\n",
    "#plt.title(plot_title)\n",
    "#plt.show()"
   ]
  },
  {
   "cell_type": "code",
   "execution_count": null,
   "metadata": {},
   "outputs": [],
   "source": []
  }
 ],
 "metadata": {
  "anaconda-cloud": {},
  "kernelspec": {
   "display_name": "Python 3 (ipykernel)",
   "language": "python",
   "name": "python3"
  },
  "language_info": {
   "codemirror_mode": {
    "name": "ipython",
    "version": 3
   },
   "file_extension": ".py",
   "mimetype": "text/x-python",
   "name": "python",
   "nbconvert_exporter": "python",
   "pygments_lexer": "ipython3",
   "version": "3.10.12"
  }
 },
 "nbformat": 4,
 "nbformat_minor": 4
}
